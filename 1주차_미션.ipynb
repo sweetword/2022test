{
  "cells": [
    {
      "cell_type": "markdown",
      "metadata": {
        "id": "view-in-github",
        "colab_type": "text"
      },
      "source": [
        "<a href=\"https://colab.research.google.com/github/sweetword/2022test/blob/main/1%EC%A3%BC%EC%B0%A8_%EB%AF%B8%EC%85%98.ipynb\" target=\"_parent\"><img src=\"https://colab.research.google.com/assets/colab-badge.svg\" alt=\"Open In Colab\"/></a>"
      ]
    },
    {
      "cell_type": "markdown",
      "metadata": {
        "id": "FUp7DWr-9oxQ"
      },
      "source": [
        ""
      ]
    },
    {
      "cell_type": "markdown",
      "metadata": {
        "id": "pWTQzWLeAPZe"
      },
      "source": [
        "# [1주차 미션: 따뜻한 말한마디]\n",
        "##코로나 자가진단 어플 부분적으로 구현해보기\n",
        "#### 1) 이름을 입력하면-> 00님 자가진단 앱 비밀번호를 입력해주세요: 비번 틀리면 다시 입력해주세요(if/else 사용)\n",
        "#### 2) 3가지 질문에 따른 답변을 다양하게 변형하여 print(if/elif/else 사용)\n",
        "#### 3) Q1 = '1번_귀하는 현재 코로나19가 의심되는 아래의 임상증상이 있나요? 예/아니오로 대답'\n",
        "####    Q2 = '2번_귀하는 오늘 또는 어제 저녁 신속항원검사를 실시했나요? 아니오/음성/양성으로 대답'\n",
        "####    Q3 = '3번_귀하 본인이 PCR 검사를 받고 그 결과를 기다리고 있나요? 예/아니오로 대답'\n",
        "#### 4) Q1에서 예/Q2 에서 아니오가 나왔을 때 : 신속항원검사를 권고합니다 라는 문구 프린트\n",
        "#### 5) time,sleep을 사용하여 시간 지연 후 답 프린트 하도록 구현\n",
        "\n",
        "##[코딩 하면서 궁금한 점]\n",
        "####반복되는 구간이 많아서요 어떻게 하면 반복 구간을 줄일 수 있을지 궁금합니다. 계속 공부하면서 업그레이드 시켜보고 싶네요^^\n",
        "\n",
        "\n",
        "\n",
        "## <자가진단 어플 부분적으로 개선해보기>\n",
        "#### 만들지는 못하지만 2가지 개선하면 좋을 점에 대해 생각해보았습니다.\n",
        "####1) 자가진단을 하지 않은 학생 이름을 화면 젤 위에 뜨도록 프로그램하면 좋을 것 같습니다. 자가진단 유무에 따라 색이 바뀌기는 하지만, 학생 명단을 아래로 스크롤 해야 해서 한 눈에 파악하기 조긍 어려운 부분이 있어서요^^\n",
        "####2) 1번 내용과 연결지어 자가진단 완료한 학생 수와 미완료한 학생 수가 [우리반 결과 현황] 탭에 들어갔을 때 바로 상단에 보이면 좋을 것 같습니다. 학부모에게 몇번 연락해야 하는 지 바로 알 수 있으니까요(?)\n",
        "\n",
        "\n",
        "\n"
      ]
    },
    {
      "cell_type": "code",
      "execution_count": null,
      "metadata": {
        "colab": {
          "base_uri": "https://localhost:8080/"
        },
        "id": "wm5ZMSVJlW4B",
        "outputId": "9b3027ac-8952-4090-bb48-f940e5e5b3f5"
      },
      "outputs": [
        {
          "output_type": "stream",
          "name": "stdout",
          "text": [
            "이름을 입력해주세요: 파이썬\n",
            "파이썬님의 자가진단 앱 비밀번호를 입력해주세요 :2022\n",
            "자가진단에 참여해주세요\n",
            "1번_귀하는 현재 코로나19가 의심되는 아래의 임상증상이 있나요? 예/아니오로 대답예\n",
            "2번_귀하는 오늘 또는 어제 저녁 신속항원검사를 실시했나요? 아니오/음성/양성으로 대답아니오\n",
            "증상이 있으면 등교자제를 권고합니다. 신속항원검사 후 등교해주세요\n",
            "3번_귀하 본인이 PCR 검사를 받고 그 결과를 기다리고 있나요? 예/아니오로 대답예\n",
            "귀하는 등교중지에 해당합니다\n"
          ]
        }
      ],
      "source": [
        "\n",
        "my_name = input('이름을 입력해주세요: ')\n",
        "import time\n",
        "time. sleep(1)\n",
        "while True:\n",
        "  my_ps = '2022'\n",
        "  input_ps = input (my_name + '님의 자가진단 앱 비밀번호를 입력해주세요 :')\n",
        "  if my_ps == input_ps :\n",
        "    print('자가진단에 참여해주세요')\n",
        "    time.sleep(2)\n",
        "    Q1 = '1번_귀하는 현재 코로나19가 의심되는 아래의 임상증상이 있나요? 예/아니오로 대답'\n",
        "    Q2 = '2번_귀하는 오늘 또는 어제 저녁 신속항원검사를 실시했나요? 아니오/음성/양성으로 대답'\n",
        "    Q3 = '3번_귀하 본인이 PCR 검사를 받고 그 결과를 기다리고 있나요? 예/아니오로 대답'\n",
        "    input_answer1 = input(Q1)\n",
        "    if input_answer1 == '예':\n",
        "      input_answer2 = input(Q2)\n",
        "      if input_answer2 == '아니오':\n",
        "        print('증상이 있으면 등교자제를 권고합니다. 신속항원검사 후 등교해주세요')\n",
        "        time.sleep(1)\n",
        "        input_answer3 =input(Q3)\n",
        "        if input_answer3 == '예':\n",
        "          print('귀하는 등교중지에 해당합니다')\n",
        "          break\n",
        "        elif input_answer3 == '아니오':\n",
        "          print('등교 가능합니다.')\n",
        "          break\n",
        "        else:\n",
        "          print('다시 입력해주세요')\n",
        "      elif input_answer2 == '음성':\n",
        "        print('3일간 가정 내 신속항원검사를 실시하여주세요.')\n",
        "        time.sleep(1)\n",
        "        input_answer3 = input(Q3)\n",
        "        if input_answer3 == '예':\n",
        "          print('귀하는 등교중지에 해당합니다')\n",
        "          break\n",
        "        elif input_answer3 == '아니오':\n",
        "          print('등교 가능합니다.')\n",
        "          break\n",
        "      else :\n",
        "        if input_answer2 == '양성':\n",
        "          print('귀하는 등교중지에 해당합니다.')\n",
        "          break\n",
        "        else :\n",
        "          print('아니오/음성/양성으로 다시 입력해주세요')\n",
        "    elif input_answer1 == '아니오':\n",
        "      input_answer2 = input(Q2)\n",
        "      if input_answer2 == '아니오':\n",
        "        input_answer3 = input(Q3)\n",
        "        if input_answer3 == '예':\n",
        "          print('귀하는 등교중지에 해당합니다')\n",
        "          break\n",
        "        elif input_answer3 == '아니오':\n",
        "          print('등교 가능합니다.')\n",
        "          break\n",
        "        else:\n",
        "          print('다시 입력해주세요')\n",
        "      elif input_answer2 == '음성':\n",
        "        input_answer3 = input(Q3)\n",
        "        if input_answer3 == '예':\n",
        "          print('귀하는 등교중지에 해당합니다')\n",
        "          break\n",
        "        elif input_answer3 == '아니오':\n",
        "          print('등교 가능합니다.')\n",
        "          break\n",
        "        else:\n",
        "          print('다시 입력해주세요')\n",
        "    else:\n",
        "      print('다시 입력해주세요') \n",
        "  else:\n",
        "     print('다시 입력해주세요')"
      ]
    }
  ],
  "metadata": {
    "colab": {
      "name": "1주차 미션.ipynb",
      "provenance": [],
      "include_colab_link": true
    },
    "kernelspec": {
      "display_name": "Python 3",
      "name": "python3"
    },
    "language_info": {
      "name": "python"
    }
  },
  "nbformat": 4,
  "nbformat_minor": 0
}